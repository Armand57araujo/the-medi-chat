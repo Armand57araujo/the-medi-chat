{
 "cells": [
  {
   "cell_type": "markdown",
   "metadata": {},
   "source": [
    "### This is the Gradio App that will interface with users trying to use our MediBot"
   ]
  },
  {
   "cell_type": "code",
   "execution_count": null,
   "metadata": {},
   "outputs": [],
   "source": [
    "# Import pandas\n",
    "import pandas as pd\n",
    "# Import the required dependencies from sklearn\n",
    "from sklearn.model_selection import train_test_split\n",
    "from sklearn.pipeline import Pipeline\n",
    "from sklearn.feature_extraction.text import TfidfVectorizer\n",
    "from sklearn.svm import LinearSVC\n",
    "\n",
    "# Set the column width to view the text message data.\n",
    "pd.set_option('max_colwidth', 200)\n",
    "\n",
    "# Import Gradio\n",
    "import gradio as gr"
   ]
  },
  {
   "cell_type": "markdown",
   "metadata": {},
   "source": [
    "for each word in the conditions, find out how many times it appears in the input string, the one that appears the most is the prognosis, if ties, handle, if none, handle as prognosis unkown. put the prognosis medical terms into a list"
   ]
  },
  {
   "cell_type": "markdown",
   "metadata": {},
   "source": [
    "### Building our MediBot model, this is where the model gets built and run from"
   ]
  },
  {
   "cell_type": "code",
   "execution_count": null,
   "metadata": {},
   "outputs": [],
   "source": [
    "def prognosis_classification(medi_df):\n",
    "    \"\"\"\n",
    "    Perform Prognosis classification using a pipeline with [TF-IDF vectorization and Linear Support Vector Classification] ### WE will have to decide whether this is the approach we should use.\n",
    "\n",
    "    Parameters:\n",
    "    - medi_df (pd.DataFrame): DataFrame containing 'input' and 'prognosis' columns for SMS classification.\n",
    "\n",
    "    Returns:\n",
    "    - text_clf (Pipeline): Fitted pipeline model for prognosis classification.\n",
    "\n",
    "    This function takes a DataFrame with 'input' and 'prognosis' columns, splits the data into\n",
    "    training and testing sets, builds a pipeline with [TF-IDF vectorization and Linear Support Vector\n",
    "    Classification], and fits the model to the training data. \n",
    "    The fitted pipeline is returned to make future predictions.\n",
    "    \"\"\"\n",
    "    # Set the features variable to the input column.\n",
    "    x_features = medi_df['input']\n",
    "    \n",
    "    # Set the target variable to the prognosis column.\n",
    "    y_target = medi_df['prognosis']\n",
    "   \n",
    "    # Split data into training and testing and set the test_size = 33%\n",
    "    x_train, x_test, y_train, y_test = train_test_split(x_features, y_target, test_size=0.33, random_state=1)\n",
    "\n",
    "    # Build a pipeline to transform the test set to compare to the training set.\n",
    "    # how we build our model is what we should decide, this SVC is a placeholder for now\n",
    "    medi_model = Pipeline([\n",
    "        ('tfidf', TfidfVectorizer(stop_words='english')), \n",
    "        ('clf', LinearSVC())\n",
    "        ]\n",
    "    )\n",
    "\n",
    "    # Fit the model to the transformed training data and return model.\n",
    "    medi_model.fit(x_train, y_train)\n",
    "    return medi_model"
   ]
  },
  {
   "cell_type": "markdown",
   "metadata": {},
   "source": [
    "### Load the dataset into the dataframe"
   ]
  },
  {
   "cell_type": "code",
   "execution_count": null,
   "metadata": {},
   "outputs": [],
   "source": [
    "# Load the dataset into a DataFrame\n",
    "medi_df = pd.read_csv(\"Resources/SMSSpamCollection.csv\")\n",
    "medi_df.head(5)"
   ]
  },
  {
   "cell_type": "markdown",
   "metadata": {},
   "source": [
    "### Now we will build our model from our gathered data"
   ]
  },
  {
   "cell_type": "code",
   "execution_count": null,
   "metadata": {},
   "outputs": [],
   "source": [
    "# Call the prognosis_classification function with the DataFrame and set the result to the \"text_clf\" variable\n",
    "text_clf = prognosis_classification(medi_df)"
   ]
  },
  {
   "cell_type": "markdown",
   "metadata": {},
   "source": [
    "### Building our function to predict and classify the prognosis from what the user inputted"
   ]
  },
  {
   "cell_type": "code",
   "execution_count": null,
   "metadata": {},
   "outputs": [],
   "source": [
    "# The function should return the prognosis\n",
    "def prog_prediction(text):\n",
    "    \"\"\"\n",
    "    Predict the prognosis classification of a given text message of symptoms from the user using a pre-trained model.\n",
    "\n",
    "    Parameters:\n",
    "    - text (str): The text message of symptoms to be classified.\n",
    "\n",
    "    Returns:\n",
    "    - str: A message indicating the user's prognosis.\n",
    "\n",
    "    This function takes a text message of symptoms and a pre-trained pipeline model, then predicts the\n",
    "    prognosis of the user. The result is a message indicating what they might be afflicted with and how to solve it.\n",
    "    \"\"\"\n",
    "    # Create a variable that will hold the prediction of a new set of symptoms.\n",
    "    prediction = text_clf.predict([text])\n",
    "    # Using a conditional if the prediction is \"ham\" return the message:\n",
    "    # f'The text message: \"{text}\", is not spam.' Else, return f'The text message: \"{text}\", is spam.'\n",
    "    return_msg = f\"Based on your symptoms, we have deduced that your prognosis might be {prediction}\"\n",
    "    # in case the model just doesn't work\n",
    "    return return_msg\n",
    "    "
   ]
  },
  {
   "cell_type": "markdown",
   "metadata": {},
   "source": [
    "### Build the Gradio MediBot App"
   ]
  },
  {
   "cell_type": "code",
   "execution_count": null,
   "metadata": {},
   "outputs": [],
   "source": [
    "# Create a medi_bot_app that takes a textbox for the inputs and has a textbox for the output.  \n",
    "# Povide labels for each textbox. \n",
    "app = gr.Interface(\n",
    "    fn=sms_prediction,\n",
    "    title='The Radical MediBot App (Please note that this is not medical advice, just a SUGGESTION, we are not doctors.)',\n",
    "    inputs = [\n",
    "        gr.Textbox(lines=2, placeholder=\"What seems to be troubling you today?\", label=\"List out your symptoms here\", interactive=True),\n",
    "    ],\n",
    "    outputs=gr.Textbox(lines=2, placeholder=\"Your prognosis is as follows: \", label=\"Our app has determined:\", show_copy_button=True)\n",
    ")\n",
    "    \n",
    "# Launch the app.\n",
    "app.launch(show_error=True) "
   ]
  }
 ],
 "metadata": {
  "language_info": {
   "name": "python"
  }
 },
 "nbformat": 4,
 "nbformat_minor": 2
}
