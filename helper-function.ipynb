{
 "cells": [
  {
   "cell_type": "markdown",
   "metadata": {},
   "source": [
    "### To get the most common word/prognosis in the output column"
   ]
  },
  {
   "cell_type": "code",
   "execution_count": null,
   "metadata": {},
   "outputs": [],
   "source": [
    "from collections import Counter\n",
    "\n",
    "def find_common_word(sentence, word_list):\n",
    "    \"\"\"\n",
    "    Get the most common word out of a sentence\n",
    "\n",
    "    Parameters:\n",
    "    - sentence (str): The sentence/df cell that we want to find the prognosis from.\n",
    "    - word_list (list): The list of diseases/illnesses\n",
    "\n",
    "    Returns:\n",
    "    - str: The most common prognosis found in the input.\n",
    "    \"\"\"\n",
    "\n",
    "    # Convert the sentence to lowercase and split it into words\n",
    "    words = sentence.lower().split()\n",
    "    \n",
    "    # Filter the words to only include those in the word_list\n",
    "    filtered_words = [word for word in words if word in word_list]\n",
    "    \n",
    "    if not filtered_words:\n",
    "        return None, 0  # No words found\n",
    "    \n",
    "    # Count the occurrences of each word\n",
    "    word_counts = Counter(filtered_words)\n",
    "    \n",
    "    # Find the most common word and its count\n",
    "    most_common_word, count = word_counts.most_common(1)[0]\n",
    "    \n",
    "    return most_common_word\n"
   ]
  },
  {
   "cell_type": "code",
   "execution_count": null,
   "metadata": {},
   "outputs": [],
   "source": [
    "# Apply as so:\n",
    "df['Most_Common_Prognosis'] = df['output'].apply(find_common_word)"
   ]
  }
 ],
 "metadata": {
  "language_info": {
   "name": "python"
  }
 },
 "nbformat": 4,
 "nbformat_minor": 2
}
